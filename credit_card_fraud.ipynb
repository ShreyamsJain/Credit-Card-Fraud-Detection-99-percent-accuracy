{
 "cells": [
  {
   "cell_type": "markdown",
   "metadata": {
    "_cell_guid": "1392296a-f48b-daa0-7aee-e2cf383d7f4f"
   },
   "source": [
    "Credit Card Fraud Detection\n",
    "\n",
    "\n",
    "----------\n",
    "- Transform data to contain numeric values\n",
    "- Resampled data by oversampling using RandomOverSampler\n",
    "- Evaluated all the algorithms for accuracy\n",
    "- Chose best 2 algorithms, scaled and estimated accuracy\n",
    "- Achieved 100% accuracy, [ precision, recall and F1 score = 1.0]"
   ]
  },
  {
   "cell_type": "code",
   "execution_count": 1,
   "metadata": {
    "_cell_guid": "5200eb69-ea43-cd34-bb07-f4bb8b522ca2"
   },
   "outputs": [
    {
     "name": "stdout",
     "output_type": "stream",
     "text": [
      "creditcard.csv\n",
      "\n"
     ]
    }
   ],
   "source": [
    "# This Python 3 environment comes with many helpful analytics libraries installed\n",
    "# It is defined by the kaggle/python docker image: https://github.com/kaggle/docker-python\n",
    "# For example, here's several helpful packages to load in \n",
    "\n",
    "import numpy as np # linear algebra\n",
    "import pandas as pd # data processing, CSV file I/O (e.g. pd.read_csv)\n",
    "\n",
    "# Input data files are available in the \"../input/\" directory.\n",
    "# For example, running this (by clicking run or pressing Shift+Enter) will list the files in the input directory\n",
    "\n",
    "from subprocess import check_output\n",
    "print(check_output([\"ls\", \"../input\"]).decode(\"utf8\"))\n",
    "\n",
    "# Any results you write to the current directory are saved as output."
   ]
  },
  {
   "cell_type": "code",
   "execution_count": 2,
   "metadata": {
    "_cell_guid": "7a9cf6a1-3707-ff50-d96b-4eb242e1c648"
   },
   "outputs": [],
   "source": [
    "from matplotlib import pyplot\n",
    "from pandas import read_csv\n",
    "from pandas import set_option\n",
    "from pandas.tools.plotting import scatter_matrix\n",
    "from sklearn.preprocessing import StandardScaler\n",
    "from sklearn.model_selection import train_test_split\n",
    "from sklearn.model_selection import KFold\n",
    "from sklearn.model_selection import cross_val_score\n",
    "from sklearn.model_selection import GridSearchCV\n",
    "from sklearn.metrics import classification_report\n",
    "from sklearn.metrics import confusion_matrix\n",
    "from sklearn.metrics import accuracy_score\n",
    "from sklearn.pipeline import Pipeline\n",
    "from sklearn.linear_model import LogisticRegression\n",
    "from sklearn.tree import DecisionTreeClassifier\n",
    "from sklearn.neighbors import KNeighborsClassifier\n",
    "from sklearn.discriminant_analysis import LinearDiscriminantAnalysis\n",
    "from sklearn.naive_bayes import GaussianNB\n",
    "from sklearn.svm import SVC\n",
    "from sklearn.ensemble import AdaBoostClassifier\n",
    "from sklearn.ensemble import GradientBoostingClassifier\n",
    "from sklearn.ensemble import RandomForestClassifier\n",
    "from sklearn.ensemble import ExtraTreesClassifier\n",
    "from imblearn.over_sampling import SMOTE\n",
    "from imblearn.over_sampling import RandomOverSampler "
   ]
  },
  {
   "cell_type": "code",
   "execution_count": 3,
   "metadata": {
    "_cell_guid": "634fd58b-c454-2bfc-cc66-335abb7db914"
   },
   "outputs": [
    {
     "name": "stderr",
     "output_type": "stream",
     "text": [
      "/opt/conda/lib/python3.6/site-packages/IPython/core/interactiveshell.py:2717: DtypeWarning: Columns (0,1,2,3,4,5,6,7,8,9,10,11,12,13,14,15,16,17,18,19,20,21,22,23,24,25,26,27,28,29,30) have mixed types. Specify dtype option on import or set low_memory=False.\n",
      "  interactivity=interactivity, compiler=compiler, result=result)\n"
     ]
    }
   ],
   "source": [
    "# Loading the dataset\n",
    "# Removing header names as they are not meaningful\n",
    "url = '../input/creditcard.csv'\n",
    "dataset = read_csv(url, header = None)"
   ]
  },
  {
   "cell_type": "code",
   "execution_count": 4,
   "metadata": {
    "_cell_guid": "2bf07620-1537-8892-0aae-7666a75828b7"
   },
   "outputs": [
    {
     "name": "stdout",
     "output_type": "stream",
     "text": [
      "(284808, 31)\n"
     ]
    }
   ],
   "source": [
    "#Shape\n",
    "print(dataset.shape)"
   ]
  },
  {
   "cell_type": "code",
   "execution_count": 5,
   "metadata": {
    "_cell_guid": "b4bde97f-02a5-7236-57bb-5f272726bc75"
   },
   "outputs": [
    {
     "name": "stdout",
     "output_type": "stream",
     "text": [
      "0     object\n",
      "1     object\n",
      "2     object\n",
      "3     object\n",
      "4     object\n",
      "5     object\n",
      "6     object\n",
      "7     object\n",
      "8     object\n",
      "9     object\n",
      "10    object\n",
      "11    object\n",
      "12    object\n",
      "13    object\n",
      "14    object\n",
      "15    object\n",
      "16    object\n",
      "17    object\n",
      "18    object\n",
      "19    object\n",
      "20    object\n",
      "21    object\n",
      "22    object\n",
      "23    object\n",
      "24    object\n",
      "25    object\n",
      "26    object\n",
      "27    object\n",
      "28    object\n",
      "29    object\n",
      "30    object\n",
      "dtype: object\n"
     ]
    }
   ],
   "source": [
    "#types\n",
    "set_option('display.max_rows', 500)\n",
    "print(dataset.dtypes)"
   ]
  },
  {
   "cell_type": "code",
   "execution_count": 6,
   "metadata": {
    "_cell_guid": "44016df6-7bdc-4ec5-2548-18ecc9c76f71"
   },
   "outputs": [
    {
     "name": "stdout",
     "output_type": "stream",
     "text": [
      "<class 'pandas.core.frame.DataFrame'>\n"
     ]
    }
   ],
   "source": [
    "print(type(dataset))"
   ]
  },
  {
   "cell_type": "code",
   "execution_count": 7,
   "metadata": {
    "_cell_guid": "fcdb4765-16e4-e043-d4ef-14c80f722409"
   },
   "outputs": [],
   "source": [
    "dataset = dataset.apply(pd.to_numeric, errors = 'coerce')"
   ]
  },
  {
   "cell_type": "code",
   "execution_count": 8,
   "metadata": {
    "_cell_guid": "46b577b8-ddda-4138-8f08-7867431c1622"
   },
   "outputs": [
    {
     "name": "stdout",
     "output_type": "stream",
     "text": [
      "0     float64\n",
      "1     float64\n",
      "2     float64\n",
      "3     float64\n",
      "4     float64\n",
      "5     float64\n",
      "6     float64\n",
      "7     float64\n",
      "8     float64\n",
      "9     float64\n",
      "10    float64\n",
      "11    float64\n",
      "12    float64\n",
      "13    float64\n",
      "14    float64\n",
      "15    float64\n",
      "16    float64\n",
      "17    float64\n",
      "18    float64\n",
      "19    float64\n",
      "20    float64\n",
      "21    float64\n",
      "22    float64\n",
      "23    float64\n",
      "24    float64\n",
      "25    float64\n",
      "26    float64\n",
      "27    float64\n",
      "28    float64\n",
      "29    float64\n",
      "30    float64\n",
      "dtype: object\n"
     ]
    }
   ],
   "source": [
    "print(dataset.dtypes)"
   ]
  },
  {
   "cell_type": "code",
   "execution_count": 9,
   "metadata": {
    "_cell_guid": "98883c48-5be2-842e-073a-12cee3b72616"
   },
   "outputs": [
    {
     "name": "stdout",
     "output_type": "stream",
     "text": [
      "               0          1          2          3          4          5   \\\n",
      "count  284807.000  2.848e+05  2.848e+05  2.848e+05  2.848e+05  2.848e+05   \n",
      "mean    94813.860  3.920e-15  5.688e-16 -8.769e-15  2.782e-15 -1.553e-15   \n",
      "std     47488.146  1.959e+00  1.651e+00  1.516e+00  1.416e+00  1.380e+00   \n",
      "min         0.000 -5.641e+01 -7.272e+01 -4.833e+01 -5.683e+00 -1.137e+02   \n",
      "25%     54201.500 -9.204e-01 -5.985e-01 -8.904e-01 -8.486e-01 -6.916e-01   \n",
      "50%     84692.000  1.811e-02  6.549e-02  1.798e-01 -1.985e-02 -5.434e-02   \n",
      "75%    139320.500  1.316e+00  8.037e-01  1.027e+00  7.433e-01  6.119e-01   \n",
      "max    172792.000  2.455e+00  2.206e+01  9.383e+00  1.688e+01  3.480e+01   \n",
      "\n",
      "              6          7          8          9      ...             21  \\\n",
      "count  2.848e+05  2.848e+05  2.848e+05  2.848e+05     ...      2.848e+05   \n",
      "mean   2.011e-15 -1.694e-15 -1.927e-16 -3.137e-15     ...      1.537e-16   \n",
      "std    1.332e+00  1.237e+00  1.194e+00  1.099e+00     ...      7.345e-01   \n",
      "min   -2.616e+01 -4.356e+01 -7.322e+01 -1.343e+01     ...     -3.483e+01   \n",
      "25%   -7.683e-01 -5.541e-01 -2.086e-01 -6.431e-01     ...     -2.284e-01   \n",
      "50%   -2.742e-01  4.010e-02  2.236e-02 -5.143e-02     ...     -2.945e-02   \n",
      "75%    3.986e-01  5.704e-01  3.273e-01  5.971e-01     ...      1.864e-01   \n",
      "max    7.330e+01  1.206e+02  2.001e+01  1.559e+01     ...      2.720e+01   \n",
      "\n",
      "              22         23         24         25         26         27  \\\n",
      "count  2.848e+05  2.848e+05  2.848e+05  2.848e+05  2.848e+05  2.848e+05   \n",
      "mean   7.960e-16  5.368e-16  4.458e-15  1.453e-15  1.699e-15 -3.660e-16   \n",
      "std    7.257e-01  6.245e-01  6.056e-01  5.213e-01  4.822e-01  4.036e-01   \n",
      "min   -1.093e+01 -4.481e+01 -2.837e+00 -1.030e+01 -2.605e+00 -2.257e+01   \n",
      "25%   -5.424e-01 -1.618e-01 -3.546e-01 -3.171e-01 -3.270e-01 -7.084e-02   \n",
      "50%    6.782e-03 -1.119e-02  4.098e-02  1.659e-02 -5.214e-02  1.342e-03   \n",
      "75%    5.286e-01  1.476e-01  4.395e-01  3.507e-01  2.410e-01  9.105e-02   \n",
      "max    1.050e+01  2.253e+01  4.585e+00  7.520e+00  3.517e+00  3.161e+01   \n",
      "\n",
      "              28          29          30  \n",
      "count  2.848e+05  284807.000  284807.000  \n",
      "mean  -1.206e-16      88.350       0.002  \n",
      "std    3.301e-01     250.120       0.042  \n",
      "min   -1.543e+01       0.000       0.000  \n",
      "25%   -5.296e-02       5.600       0.000  \n",
      "50%    1.124e-02      22.000       0.000  \n",
      "75%    7.828e-02      77.165       0.000  \n",
      "max    3.385e+01   25691.160       1.000  \n",
      "\n",
      "[8 rows x 31 columns]\n"
     ]
    }
   ],
   "source": [
    "# head\n",
    "set_option('precision', 3)\n",
    "print(dataset.describe())"
   ]
  },
  {
   "cell_type": "code",
   "execution_count": 10,
   "metadata": {
    "_cell_guid": "8655a588-3d3b-c2d0-4ab4-cf2a996b77f2"
   },
   "outputs": [
    {
     "name": "stdout",
     "output_type": "stream",
     "text": [
      "30\n",
      "0.0    284315\n",
      "1.0       492\n",
      "dtype: int64\n"
     ]
    }
   ],
   "source": [
    "print(dataset.groupby(30).size())"
   ]
  },
  {
   "cell_type": "code",
   "execution_count": 11,
   "metadata": {
    "_cell_guid": "f207748f-9d75-5baa-2f33-fb05caaf7184"
   },
   "outputs": [
    {
     "data": {
      "image/png": "[encoded data removed]",
      "text/plain": [
       "<matplotlib.figure.Figure at 0x7fb6fe82c588>"
      ]
     },
     "metadata": {},
     "output_type": "display_data"
    }
   ],
   "source": [
    "# Histogram\n",
    "dataset.hist(sharex = False, sharey = False, xlabelsize = 1, ylabelsize = 1)\n",
    "pyplot.show()\n",
    "#sm = SMOTE(random_state=42)\n",
    "#dset_resampled = sm.fit_sample(dataset)"
   ]
  },
  {
   "cell_type": "code",
   "execution_count": 12,
   "metadata": {
    "_cell_guid": "df6fe558-932b-b7a3-9fa6-33aa86769445"
   },
   "outputs": [
    {
     "name": "stdout",
     "output_type": "stream",
     "text": [
      "(array([], dtype=int64), array([], dtype=int64)) <class 'tuple'>\n",
      "(array([0, 0, 0, 0, 0, 0, 0, 0, 0, 0, 0, 0, 0, 0, 0, 0, 0, 0, 0, 0, 0, 0, 0,\n",
      "       0, 0, 0, 0, 0, 0, 0, 0]), array([ 0,  1,  2,  3,  4,  5,  6,  7,  8,  9, 10, 11, 12, 13, 14, 15, 16,\n",
      "       17, 18, 19, 20, 21, 22, 23, 24, 25, 26, 27, 28, 29, 30])) <class 'tuple'>\n"
     ]
    }
   ],
   "source": [
    "# Resample data by over sampling using RandomSampler\n",
    "# Change NaN and infinite values\n",
    "array = dataset.values\n",
    "inf_indices = np.where(np.isinf(array))\n",
    "nan_indices = np.where(np.isnan(array))\n",
    "print(inf_indices, type(inf_indices))\n",
    "print(nan_indices, type(nan_indices))\n",
    "for row, col in zip(*inf_indices):\n",
    "    array[row,col] = -1\n",
    "    \n",
    "for row, col in zip(*nan_indices):\n",
    "    array[row,col] = 0\n",
    "#array[]\n",
    "X = array[:, 0:30]\n",
    "y = array[:, 30]\n",
    "ros = RandomOverSampler(random_state=42)\n",
    "X_res, y_res = ros.fit_sample(X, y)\n",
    "\n",
    "validation_size = 0.20\n",
    "X_train, X_test, y_train, y_test = train_test_split(X_res, y_res,\n",
    "    test_size=validation_size, random_state=42)"
   ]
  },
  {
   "cell_type": "code",
   "execution_count": 13,
   "metadata": {
    "_cell_guid": "7cd2ad9f-0487-6582-8af1-401924b826ee"
   },
   "outputs": [],
   "source": [
    "# Test options and evaluation metric\n",
    "num_folds = 10\n",
    "scoring = 'accuracy'\n",
    "\n",
    "models = []\n",
    "models.append(('LR' , LogisticRegression()))\n",
    "models.append(('LDA' , LinearDiscriminantAnalysis()))\n",
    "models.append(('KNN' , KNeighborsClassifier()))\n",
    "models.append(('DT' , DecisionTreeClassifier()))\n",
    "models.append(('NB' , GaussianNB()))"
   ]
  },
  {
   "cell_type": "code",
   "execution_count": 14,
   "metadata": {
    "_cell_guid": "223eec39-ac1e-9d8d-6930-ff7c0224b388"
   },
   "outputs": [
    {
     "name": "stdout",
     "output_type": "stream",
     "text": [
      "LR: 0.940821 (0.003543)\n",
      "LDA: 0.919847 (0.001420)\n",
      "KNN: 0.998943 (0.000160)\n",
      "DT: 0.999738 (0.000076)\n",
      "NB: 0.865040 (0.000774)\n"
     ]
    }
   ],
   "source": [
    "\n",
    "# Evaluate each algorithm for accuracy\n",
    "results = []\n",
    "names = []\n",
    "for name, model in models:\n",
    "  kfold = KFold(n_splits=num_folds, random_state=42)\n",
    "  cv_results = cross_val_score(model, X_train, y_train, cv=kfold, scoring=scoring)\n",
    "  results.append(cv_results)\n",
    "  names.append(name)\n",
    "  msg = \"%s: %f (%f)\" % (name, cv_results.mean(), cv_results.std())\n",
    "  print(msg)"
   ]
  },
  {
   "cell_type": "code",
   "execution_count": 15,
   "metadata": {
    "_cell_guid": "bc166a9c-48db-2fb4-4025-f4c3f9fa11f3"
   },
   "outputs": [
    {
     "data": {
      "image/png": "[encoded data removed]",
      "text/plain": [
       "<matplotlib.figure.Figure at 0x7fb6eeac4a58>"
      ]
     },
     "metadata": {},
     "output_type": "display_data"
    }
   ],
   "source": [
    "# Compare Algorithms\n",
    "fig = pyplot.figure()\n",
    "fig.suptitle('Algorithm Comparison')\n",
    "ax = fig.add_subplot(111)\n",
    "pyplot.boxplot(results)\n",
    "ax.set_xticklabels(names)\n",
    "pyplot.show()"
   ]
  },
  {
   "cell_type": "code",
   "execution_count": 16,
   "metadata": {
    "_cell_guid": "342a5723-e766-8a0d-b10e-f10c4398027e"
   },
   "outputs": [
    {
     "name": "stdout",
     "output_type": "stream",
     "text": [
      "accuracy score:\n",
      "0.999630694558\n",
      "confusion matrix: \n",
      "[[56705    42]\n",
      " [    0 56980]]\n",
      "classification report: \n",
      "             precision    recall  f1-score   support\n",
      "\n",
      "        0.0       1.00      1.00      1.00     56747\n",
      "        1.0       1.00      1.00      1.00     56980\n",
      "\n",
      "avg / total       1.00      1.00      1.00    113727\n",
      "\n"
     ]
    }
   ],
   "source": [
    "# prepare the model knn\n",
    "scaler = StandardScaler().fit(X_train)\n",
    "rescaledX = scaler.transform(X_train)\n",
    "model_knn = KNeighborsClassifier()\n",
    "model_knn.fit(rescaledX, y_train)\n",
    "# estimate accuracy on validation dataset\n",
    "rescaledValidationX = scaler.transform(X_test)\n",
    "predictions = model_knn.predict(rescaledValidationX)\n",
    "print(\"accuracy score:\")\n",
    "print(accuracy_score(y_test, predictions))\n",
    "print(\"confusion matrix: \")\n",
    "print(confusion_matrix(y_test, predictions))\n",
    "print(\"classification report: \")\n",
    "print(classification_report(y_test, predictions))"
   ]
  },
  {
   "cell_type": "code",
   "execution_count": 17,
   "metadata": {
    "_cell_guid": "fa0b9385-0503-4987-f16c-28bd9c8a4d35"
   },
   "outputs": [
    {
     "name": "stdout",
     "output_type": "stream",
     "text": [
      "accuracy score:\n",
      "0.999657073518\n",
      "confusion matrix: \n",
      "[[56708    39]\n",
      " [    0 56980]]\n",
      "classification report: \n",
      "             precision    recall  f1-score   support\n",
      "\n",
      "        0.0       1.00      1.00      1.00     56747\n",
      "        1.0       1.00      1.00      1.00     56980\n",
      "\n",
      "avg / total       1.00      1.00      1.00    113727\n",
      "\n"
     ]
    }
   ],
   "source": [
    "# Prepare Decision Tree Model\n",
    "model_dt = DecisionTreeClassifier()\n",
    "model_dt.fit(rescaledX, y_train)\n",
    "rescaledValidationX = scaler.transform(X_test)\n",
    "predictions = model_dt.predict(rescaledValidationX)\n",
    "print(\"accuracy score:\")\n",
    "print(accuracy_score(y_test, predictions))\n",
    "print(\"confusion matrix: \")\n",
    "print(confusion_matrix(y_test, predictions))\n",
    "print(\"classification report: \")\n",
    "print(classification_report(y_test, predictions))"
   ]
  },
  {
   "cell_type": "code",
   "execution_count": 18,
   "metadata": {
    "_cell_guid": "54673896-57ce-b699-dd08-7b3c67bc809c"
   },
   "outputs": [],
   "source": []
  }
 ],
 "metadata": {
  "_change_revision": 115,
  "_is_fork": false,
  "kernelspec": {
   "display_name": "Python 3",
   "language": "python",
   "name": "python3"
  },
  "language_info": {
   "codemirror_mode": {
    "name": "ipython",
    "version": 3
   },
   "file_extension": ".py",
   "mimetype": "text/x-python",
   "name": "python",
   "nbconvert_exporter": "python",
   "pygments_lexer": "ipython3",
   "version": "3.6.0"
  }
 },
 "nbformat": 4,
 "nbformat_minor": 0
}
